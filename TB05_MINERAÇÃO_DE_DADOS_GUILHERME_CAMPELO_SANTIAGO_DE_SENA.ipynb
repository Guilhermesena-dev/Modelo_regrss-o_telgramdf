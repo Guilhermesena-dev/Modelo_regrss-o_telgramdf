{
  "nbformat": 4,
  "nbformat_minor": 0,
  "metadata": {
    "colab": {
      "provenance": [],
      "authorship_tag": "ABX9TyOZuXHwRKDgfCexnbFP9507",
      "include_colab_link": true
    },
    "kernelspec": {
      "name": "python3",
      "display_name": "Python 3"
    },
    "language_info": {
      "name": "python"
    }
  },
  "cells": [
    {
      "cell_type": "markdown",
      "metadata": {
        "id": "view-in-github",
        "colab_type": "text"
      },
      "source": [
        "<a href=\"https://colab.research.google.com/github/Guilhermesena-dev/Modelo_regrss-o_telgramdf/blob/main/TB05_MINERA%C3%87%C3%83O_DE_DADOS_GUILHERME_CAMPELO_SANTIAGO_DE_SENA.ipynb\" target=\"_parent\"><img src=\"https://colab.research.google.com/assets/colab-badge.svg\" alt=\"Open In Colab\"/></a>"
      ]
    },
    {
      "cell_type": "markdown",
      "source": [
        "Link para video no youtube: https://youtu.be/EtwEto0ZXns"
      ],
      "metadata": {
        "id": "NZhIHp8g8Bam"
      }
    },
    {
      "cell_type": "markdown",
      "source": [
        "Ler o dataset fakeTelegram.BR_2022.csv"
      ],
      "metadata": {
        "id": "OQyxqD4s1_dV"
      }
    },
    {
      "cell_type": "code",
      "execution_count": 7,
      "metadata": {
        "colab": {
          "base_uri": "https://localhost:8080/",
          "height": 382
        },
        "id": "55S0V-6f0kHo",
        "outputId": "aa4cb9c1-9f0c-4167-efe0-fa333bcb5f87"
      },
      "outputs": [
        {
          "output_type": "stream",
          "name": "stdout",
          "text": [
            "Drive already mounted at /content/drive; to attempt to forcibly remount, call drive.mount(\"/content/drive\", force_remount=True).\n"
          ]
        },
        {
          "output_type": "execute_result",
          "data": {
            "text/plain": [
              "          date_message               id_member_anonymous  \\\n",
              "0  2022-10-05 06:25:04  1078cc958f0febe28f4d03207660715f   \n",
              "1  2022-10-05 06:25:08                               NaN   \n",
              "2  2022-10-05 06:26:28  92a2d8fd7144074f659d1d29dc3751da   \n",
              "3  2022-10-05 06:27:28  d60aa38f62b4977426b70944af4aff72   \n",
              "4  2022-10-05 06:27:44  cd6979b0b5265f08468fa1689b6300ce   \n",
              "\n",
              "                 id_group_anonymous                                 media  \\\n",
              "0  12283e08a2eb5789201e105b34489ee7                                   NaN   \n",
              "1  12283e08a2eb5789201e105b34489ee7                                   NaN   \n",
              "2  9f2d7394334eb224c061c9740b5748fc                                   NaN   \n",
              "3  c8f2de56550ed0bf85249608b7ead93d  94dca4cda503100ebfda7ce2bcc060eb.jpg   \n",
              "4  e56ec342fc599ebb4ed89655eb6f03aa  5ad5c8bbe9da93a37fecf3e5aa5b0637.jpg   \n",
              "\n",
              "  media_type media_url  has_media  has_media_url  trava_zap  \\\n",
              "0        NaN       NaN      False          False      False   \n",
              "1        NaN       NaN      False          False      False   \n",
              "2        NaN       NaN      False          False      False   \n",
              "3  image/jpg       NaN       True          False      False   \n",
              "4  image/jpg       NaN       True          False      False   \n",
              "\n",
              "                              text_content_anonymous  dataset_info_id  \\\n",
              "0  Então é Fato Renato o áudio que eu ouvi no wha...                5   \n",
              "1  Saiu no YouTube do presidente a 8 horas atrás,...                5   \n",
              "2  É isso, nossa parte já foi quase toda feita. N...                5   \n",
              "3           GENTE ACHEI ELES EM UMA SEITA MAÇONÁRICA                5   \n",
              "4                                                NaN                5   \n",
              "\n",
              "                  date_system  score_sentiment  score_misinformation  \\\n",
              "0  2022-10-05 06:25:28.863641           0.0000                   NaN   \n",
              "1  2022-10-05 06:25:28.926311           0.0644                   NaN   \n",
              "2  2022-10-05 06:26:29.361949          -0.3551              0.157242   \n",
              "3  2022-10-05 06:27:29.935624           0.0000                   NaN   \n",
              "4  2022-10-05 06:28:29.316325              NaN                   NaN   \n",
              "\n",
              "   id_message message_type messenger media_name  \\\n",
              "0       16385        Texto  telegram        NaN   \n",
              "1       16386        Texto  telegram        NaN   \n",
              "2       16366        Texto  telegram        NaN   \n",
              "3       19281       Imagem  telegram        NaN   \n",
              "4      507185       Imagem  telegram        NaN   \n",
              "\n",
              "                          media_md5  \n",
              "0                               NaN  \n",
              "1                               NaN  \n",
              "2                               NaN  \n",
              "3  94dca4cda503100ebfda7ce2bcc060eb  \n",
              "4  5ad5c8bbe9da93a37fecf3e5aa5b0637  "
            ],
            "text/html": [
              "\n",
              "  <div id=\"df-6e303d9f-a805-4f8c-a366-5315d5b3ae05\" class=\"colab-df-container\">\n",
              "    <div>\n",
              "<style scoped>\n",
              "    .dataframe tbody tr th:only-of-type {\n",
              "        vertical-align: middle;\n",
              "    }\n",
              "\n",
              "    .dataframe tbody tr th {\n",
              "        vertical-align: top;\n",
              "    }\n",
              "\n",
              "    .dataframe thead th {\n",
              "        text-align: right;\n",
              "    }\n",
              "</style>\n",
              "<table border=\"1\" class=\"dataframe\">\n",
              "  <thead>\n",
              "    <tr style=\"text-align: right;\">\n",
              "      <th></th>\n",
              "      <th>date_message</th>\n",
              "      <th>id_member_anonymous</th>\n",
              "      <th>id_group_anonymous</th>\n",
              "      <th>media</th>\n",
              "      <th>media_type</th>\n",
              "      <th>media_url</th>\n",
              "      <th>has_media</th>\n",
              "      <th>has_media_url</th>\n",
              "      <th>trava_zap</th>\n",
              "      <th>text_content_anonymous</th>\n",
              "      <th>dataset_info_id</th>\n",
              "      <th>date_system</th>\n",
              "      <th>score_sentiment</th>\n",
              "      <th>score_misinformation</th>\n",
              "      <th>id_message</th>\n",
              "      <th>message_type</th>\n",
              "      <th>messenger</th>\n",
              "      <th>media_name</th>\n",
              "      <th>media_md5</th>\n",
              "    </tr>\n",
              "  </thead>\n",
              "  <tbody>\n",
              "    <tr>\n",
              "      <th>0</th>\n",
              "      <td>2022-10-05 06:25:04</td>\n",
              "      <td>1078cc958f0febe28f4d03207660715f</td>\n",
              "      <td>12283e08a2eb5789201e105b34489ee7</td>\n",
              "      <td>NaN</td>\n",
              "      <td>NaN</td>\n",
              "      <td>NaN</td>\n",
              "      <td>False</td>\n",
              "      <td>False</td>\n",
              "      <td>False</td>\n",
              "      <td>Então é Fato Renato o áudio que eu ouvi no wha...</td>\n",
              "      <td>5</td>\n",
              "      <td>2022-10-05 06:25:28.863641</td>\n",
              "      <td>0.0000</td>\n",
              "      <td>NaN</td>\n",
              "      <td>16385</td>\n",
              "      <td>Texto</td>\n",
              "      <td>telegram</td>\n",
              "      <td>NaN</td>\n",
              "      <td>NaN</td>\n",
              "    </tr>\n",
              "    <tr>\n",
              "      <th>1</th>\n",
              "      <td>2022-10-05 06:25:08</td>\n",
              "      <td>NaN</td>\n",
              "      <td>12283e08a2eb5789201e105b34489ee7</td>\n",
              "      <td>NaN</td>\n",
              "      <td>NaN</td>\n",
              "      <td>NaN</td>\n",
              "      <td>False</td>\n",
              "      <td>False</td>\n",
              "      <td>False</td>\n",
              "      <td>Saiu no YouTube do presidente a 8 horas atrás,...</td>\n",
              "      <td>5</td>\n",
              "      <td>2022-10-05 06:25:28.926311</td>\n",
              "      <td>0.0644</td>\n",
              "      <td>NaN</td>\n",
              "      <td>16386</td>\n",
              "      <td>Texto</td>\n",
              "      <td>telegram</td>\n",
              "      <td>NaN</td>\n",
              "      <td>NaN</td>\n",
              "    </tr>\n",
              "    <tr>\n",
              "      <th>2</th>\n",
              "      <td>2022-10-05 06:26:28</td>\n",
              "      <td>92a2d8fd7144074f659d1d29dc3751da</td>\n",
              "      <td>9f2d7394334eb224c061c9740b5748fc</td>\n",
              "      <td>NaN</td>\n",
              "      <td>NaN</td>\n",
              "      <td>NaN</td>\n",
              "      <td>False</td>\n",
              "      <td>False</td>\n",
              "      <td>False</td>\n",
              "      <td>É isso, nossa parte já foi quase toda feita. N...</td>\n",
              "      <td>5</td>\n",
              "      <td>2022-10-05 06:26:29.361949</td>\n",
              "      <td>-0.3551</td>\n",
              "      <td>0.157242</td>\n",
              "      <td>16366</td>\n",
              "      <td>Texto</td>\n",
              "      <td>telegram</td>\n",
              "      <td>NaN</td>\n",
              "      <td>NaN</td>\n",
              "    </tr>\n",
              "    <tr>\n",
              "      <th>3</th>\n",
              "      <td>2022-10-05 06:27:28</td>\n",
              "      <td>d60aa38f62b4977426b70944af4aff72</td>\n",
              "      <td>c8f2de56550ed0bf85249608b7ead93d</td>\n",
              "      <td>94dca4cda503100ebfda7ce2bcc060eb.jpg</td>\n",
              "      <td>image/jpg</td>\n",
              "      <td>NaN</td>\n",
              "      <td>True</td>\n",
              "      <td>False</td>\n",
              "      <td>False</td>\n",
              "      <td>GENTE ACHEI ELES EM UMA SEITA MAÇONÁRICA</td>\n",
              "      <td>5</td>\n",
              "      <td>2022-10-05 06:27:29.935624</td>\n",
              "      <td>0.0000</td>\n",
              "      <td>NaN</td>\n",
              "      <td>19281</td>\n",
              "      <td>Imagem</td>\n",
              "      <td>telegram</td>\n",
              "      <td>NaN</td>\n",
              "      <td>94dca4cda503100ebfda7ce2bcc060eb</td>\n",
              "    </tr>\n",
              "    <tr>\n",
              "      <th>4</th>\n",
              "      <td>2022-10-05 06:27:44</td>\n",
              "      <td>cd6979b0b5265f08468fa1689b6300ce</td>\n",
              "      <td>e56ec342fc599ebb4ed89655eb6f03aa</td>\n",
              "      <td>5ad5c8bbe9da93a37fecf3e5aa5b0637.jpg</td>\n",
              "      <td>image/jpg</td>\n",
              "      <td>NaN</td>\n",
              "      <td>True</td>\n",
              "      <td>False</td>\n",
              "      <td>False</td>\n",
              "      <td>NaN</td>\n",
              "      <td>5</td>\n",
              "      <td>2022-10-05 06:28:29.316325</td>\n",
              "      <td>NaN</td>\n",
              "      <td>NaN</td>\n",
              "      <td>507185</td>\n",
              "      <td>Imagem</td>\n",
              "      <td>telegram</td>\n",
              "      <td>NaN</td>\n",
              "      <td>5ad5c8bbe9da93a37fecf3e5aa5b0637</td>\n",
              "    </tr>\n",
              "  </tbody>\n",
              "</table>\n",
              "</div>\n",
              "    <div class=\"colab-df-buttons\">\n",
              "\n",
              "  <div class=\"colab-df-container\">\n",
              "    <button class=\"colab-df-convert\" onclick=\"convertToInteractive('df-6e303d9f-a805-4f8c-a366-5315d5b3ae05')\"\n",
              "            title=\"Convert this dataframe to an interactive table.\"\n",
              "            style=\"display:none;\">\n",
              "\n",
              "  <svg xmlns=\"http://www.w3.org/2000/svg\" height=\"24px\" viewBox=\"0 -960 960 960\">\n",
              "    <path d=\"M120-120v-720h720v720H120Zm60-500h600v-160H180v160Zm220 220h160v-160H400v160Zm0 220h160v-160H400v160ZM180-400h160v-160H180v160Zm440 0h160v-160H620v160ZM180-180h160v-160H180v160Zm440 0h160v-160H620v160Z\"/>\n",
              "  </svg>\n",
              "    </button>\n",
              "\n",
              "  <style>\n",
              "    .colab-df-container {\n",
              "      display:flex;\n",
              "      gap: 12px;\n",
              "    }\n",
              "\n",
              "    .colab-df-convert {\n",
              "      background-color: #E8F0FE;\n",
              "      border: none;\n",
              "      border-radius: 50%;\n",
              "      cursor: pointer;\n",
              "      display: none;\n",
              "      fill: #1967D2;\n",
              "      height: 32px;\n",
              "      padding: 0 0 0 0;\n",
              "      width: 32px;\n",
              "    }\n",
              "\n",
              "    .colab-df-convert:hover {\n",
              "      background-color: #E2EBFA;\n",
              "      box-shadow: 0px 1px 2px rgba(60, 64, 67, 0.3), 0px 1px 3px 1px rgba(60, 64, 67, 0.15);\n",
              "      fill: #174EA6;\n",
              "    }\n",
              "\n",
              "    .colab-df-buttons div {\n",
              "      margin-bottom: 4px;\n",
              "    }\n",
              "\n",
              "    [theme=dark] .colab-df-convert {\n",
              "      background-color: #3B4455;\n",
              "      fill: #D2E3FC;\n",
              "    }\n",
              "\n",
              "    [theme=dark] .colab-df-convert:hover {\n",
              "      background-color: #434B5C;\n",
              "      box-shadow: 0px 1px 3px 1px rgba(0, 0, 0, 0.15);\n",
              "      filter: drop-shadow(0px 1px 2px rgba(0, 0, 0, 0.3));\n",
              "      fill: #FFFFFF;\n",
              "    }\n",
              "  </style>\n",
              "\n",
              "    <script>\n",
              "      const buttonEl =\n",
              "        document.querySelector('#df-6e303d9f-a805-4f8c-a366-5315d5b3ae05 button.colab-df-convert');\n",
              "      buttonEl.style.display =\n",
              "        google.colab.kernel.accessAllowed ? 'block' : 'none';\n",
              "\n",
              "      async function convertToInteractive(key) {\n",
              "        const element = document.querySelector('#df-6e303d9f-a805-4f8c-a366-5315d5b3ae05');\n",
              "        const dataTable =\n",
              "          await google.colab.kernel.invokeFunction('convertToInteractive',\n",
              "                                                    [key], {});\n",
              "        if (!dataTable) return;\n",
              "\n",
              "        const docLinkHtml = 'Like what you see? Visit the ' +\n",
              "          '<a target=\"_blank\" href=https://colab.research.google.com/notebooks/data_table.ipynb>data table notebook</a>'\n",
              "          + ' to learn more about interactive tables.';\n",
              "        element.innerHTML = '';\n",
              "        dataTable['output_type'] = 'display_data';\n",
              "        await google.colab.output.renderOutput(dataTable, element);\n",
              "        const docLink = document.createElement('div');\n",
              "        docLink.innerHTML = docLinkHtml;\n",
              "        element.appendChild(docLink);\n",
              "      }\n",
              "    </script>\n",
              "  </div>\n",
              "\n",
              "\n",
              "    <div id=\"df-c70c521d-3113-4dfa-a9fe-eb42bec94fef\">\n",
              "      <button class=\"colab-df-quickchart\" onclick=\"quickchart('df-c70c521d-3113-4dfa-a9fe-eb42bec94fef')\"\n",
              "                title=\"Suggest charts\"\n",
              "                style=\"display:none;\">\n",
              "\n",
              "<svg xmlns=\"http://www.w3.org/2000/svg\" height=\"24px\"viewBox=\"0 0 24 24\"\n",
              "     width=\"24px\">\n",
              "    <g>\n",
              "        <path d=\"M19 3H5c-1.1 0-2 .9-2 2v14c0 1.1.9 2 2 2h14c1.1 0 2-.9 2-2V5c0-1.1-.9-2-2-2zM9 17H7v-7h2v7zm4 0h-2V7h2v10zm4 0h-2v-4h2v4z\"/>\n",
              "    </g>\n",
              "</svg>\n",
              "      </button>\n",
              "\n",
              "<style>\n",
              "  .colab-df-quickchart {\n",
              "      --bg-color: #E8F0FE;\n",
              "      --fill-color: #1967D2;\n",
              "      --hover-bg-color: #E2EBFA;\n",
              "      --hover-fill-color: #174EA6;\n",
              "      --disabled-fill-color: #AAA;\n",
              "      --disabled-bg-color: #DDD;\n",
              "  }\n",
              "\n",
              "  [theme=dark] .colab-df-quickchart {\n",
              "      --bg-color: #3B4455;\n",
              "      --fill-color: #D2E3FC;\n",
              "      --hover-bg-color: #434B5C;\n",
              "      --hover-fill-color: #FFFFFF;\n",
              "      --disabled-bg-color: #3B4455;\n",
              "      --disabled-fill-color: #666;\n",
              "  }\n",
              "\n",
              "  .colab-df-quickchart {\n",
              "    background-color: var(--bg-color);\n",
              "    border: none;\n",
              "    border-radius: 50%;\n",
              "    cursor: pointer;\n",
              "    display: none;\n",
              "    fill: var(--fill-color);\n",
              "    height: 32px;\n",
              "    padding: 0;\n",
              "    width: 32px;\n",
              "  }\n",
              "\n",
              "  .colab-df-quickchart:hover {\n",
              "    background-color: var(--hover-bg-color);\n",
              "    box-shadow: 0 1px 2px rgba(60, 64, 67, 0.3), 0 1px 3px 1px rgba(60, 64, 67, 0.15);\n",
              "    fill: var(--button-hover-fill-color);\n",
              "  }\n",
              "\n",
              "  .colab-df-quickchart-complete:disabled,\n",
              "  .colab-df-quickchart-complete:disabled:hover {\n",
              "    background-color: var(--disabled-bg-color);\n",
              "    fill: var(--disabled-fill-color);\n",
              "    box-shadow: none;\n",
              "  }\n",
              "\n",
              "  .colab-df-spinner {\n",
              "    border: 2px solid var(--fill-color);\n",
              "    border-color: transparent;\n",
              "    border-bottom-color: var(--fill-color);\n",
              "    animation:\n",
              "      spin 1s steps(1) infinite;\n",
              "  }\n",
              "\n",
              "  @keyframes spin {\n",
              "    0% {\n",
              "      border-color: transparent;\n",
              "      border-bottom-color: var(--fill-color);\n",
              "      border-left-color: var(--fill-color);\n",
              "    }\n",
              "    20% {\n",
              "      border-color: transparent;\n",
              "      border-left-color: var(--fill-color);\n",
              "      border-top-color: var(--fill-color);\n",
              "    }\n",
              "    30% {\n",
              "      border-color: transparent;\n",
              "      border-left-color: var(--fill-color);\n",
              "      border-top-color: var(--fill-color);\n",
              "      border-right-color: var(--fill-color);\n",
              "    }\n",
              "    40% {\n",
              "      border-color: transparent;\n",
              "      border-right-color: var(--fill-color);\n",
              "      border-top-color: var(--fill-color);\n",
              "    }\n",
              "    60% {\n",
              "      border-color: transparent;\n",
              "      border-right-color: var(--fill-color);\n",
              "    }\n",
              "    80% {\n",
              "      border-color: transparent;\n",
              "      border-right-color: var(--fill-color);\n",
              "      border-bottom-color: var(--fill-color);\n",
              "    }\n",
              "    90% {\n",
              "      border-color: transparent;\n",
              "      border-bottom-color: var(--fill-color);\n",
              "    }\n",
              "  }\n",
              "</style>\n",
              "\n",
              "      <script>\n",
              "        async function quickchart(key) {\n",
              "          const quickchartButtonEl =\n",
              "            document.querySelector('#' + key + ' button');\n",
              "          quickchartButtonEl.disabled = true;  // To prevent multiple clicks.\n",
              "          quickchartButtonEl.classList.add('colab-df-spinner');\n",
              "          try {\n",
              "            const charts = await google.colab.kernel.invokeFunction(\n",
              "                'suggestCharts', [key], {});\n",
              "          } catch (error) {\n",
              "            console.error('Error during call to suggestCharts:', error);\n",
              "          }\n",
              "          quickchartButtonEl.classList.remove('colab-df-spinner');\n",
              "          quickchartButtonEl.classList.add('colab-df-quickchart-complete');\n",
              "        }\n",
              "        (() => {\n",
              "          let quickchartButtonEl =\n",
              "            document.querySelector('#df-c70c521d-3113-4dfa-a9fe-eb42bec94fef button');\n",
              "          quickchartButtonEl.style.display =\n",
              "            google.colab.kernel.accessAllowed ? 'block' : 'none';\n",
              "        })();\n",
              "      </script>\n",
              "    </div>\n",
              "\n",
              "    </div>\n",
              "  </div>\n"
            ],
            "application/vnd.google.colaboratory.intrinsic+json": {
              "type": "dataframe",
              "variable_name": "df"
            }
          },
          "metadata": {},
          "execution_count": 7
        }
      ],
      "source": [
        "import pandas as pd\n",
        "import numpy as np\n",
        "from sklearn.linear_model import LinearRegression\n",
        "\n",
        "from sklearn.feature_extraction.text import TfidfVectorizer\n",
        "from sklearn.neighbors import NearestNeighbors\n",
        "from sklearn.linear_model import Ridge, Lasso, ElasticNet\n",
        "from sklearn.preprocessing import PolynomialFeatures, StandardScaler, MinMaxScaler\n",
        "from sklearn.pipeline import make_pipeline, Pipeline\n",
        "from sklearn.model_selection import KFold, cross_val_score\n",
        "from google.colab import files\n",
        "from google.colab import drive\n",
        "drive.mount('/content/drive')\n",
        "\n",
        "df = pd.read_csv('/content/drive/MyDrive/Colab Notebooks/fakeTelegram.BR_2022.csv')\n",
        "df.head()"
      ]
    },
    {
      "cell_type": "markdown",
      "source": [
        "Remova os trava-zaps, as linhas repetidas (duplicadas) e textos com menos de 5\n",
        "palavras."
      ],
      "metadata": {
        "id": "afJRRTQE2FY_"
      }
    },
    {
      "cell_type": "code",
      "source": [
        "df_limpo = df[df[\"trava_zap\"] == False].copy() #Remoção dos trava_zaps\n"
      ],
      "metadata": {
        "id": "sioHHarW2FfN"
      },
      "execution_count": 8,
      "outputs": []
    },
    {
      "cell_type": "code",
      "source": [
        "df_limpo.drop_duplicates(inplace=True) #remoção de linhas duplicadas"
      ],
      "metadata": {
        "id": "0xH4_Nsk2JNb"
      },
      "execution_count": 9,
      "outputs": []
    },
    {
      "cell_type": "code",
      "source": [
        "def contar_palavras(texto): #remoção de textos com menos de 5 caracteres\n",
        "    if pd.isna(texto):\n",
        "        return 0\n",
        "    return len(texto.strip().split())\n",
        "\n",
        "df_limpo[\"n_palavras\"] = df_limpo[\"text_content_anonymous\"].apply(contar_palavras)\n",
        "df_filtrado = df_limpo[df_limpo[\"n_palavras\"] >= 5].copy()\n",
        "\n",
        "df_filtrado.head(), len(df_filtrado)"
      ],
      "metadata": {
        "colab": {
          "base_uri": "https://localhost:8080/"
        },
        "id": "oLtcHqOb2N6Y",
        "outputId": "cf54a9f4-7d66-486d-87c9-9486c0fb35d7"
      },
      "execution_count": 10,
      "outputs": [
        {
          "output_type": "execute_result",
          "data": {
            "text/plain": [
              "(          date_message               id_member_anonymous  \\\n",
              " 0  2022-10-05 06:25:04  1078cc958f0febe28f4d03207660715f   \n",
              " 1  2022-10-05 06:25:08                               NaN   \n",
              " 2  2022-10-05 06:26:28  92a2d8fd7144074f659d1d29dc3751da   \n",
              " 3  2022-10-05 06:27:28  d60aa38f62b4977426b70944af4aff72   \n",
              " 5  2022-10-05 06:28:30                               NaN   \n",
              " \n",
              "                  id_group_anonymous                                 media  \\\n",
              " 0  12283e08a2eb5789201e105b34489ee7                                   NaN   \n",
              " 1  12283e08a2eb5789201e105b34489ee7                                   NaN   \n",
              " 2  9f2d7394334eb224c061c9740b5748fc                                   NaN   \n",
              " 3  c8f2de56550ed0bf85249608b7ead93d  94dca4cda503100ebfda7ce2bcc060eb.jpg   \n",
              " 5  b52442a5fbc459ae590dca0d215e32f9                                   NaN   \n",
              " \n",
              "   media_type media_url  has_media  has_media_url  trava_zap  \\\n",
              " 0        NaN       NaN      False          False      False   \n",
              " 1        NaN       NaN      False          False      False   \n",
              " 2        NaN       NaN      False          False      False   \n",
              " 3  image/jpg       NaN       True          False      False   \n",
              " 5        NaN       NaN      False          False      False   \n",
              " \n",
              "                               text_content_anonymous  dataset_info_id  \\\n",
              " 0  Então é Fato Renato o áudio que eu ouvi no wha...                5   \n",
              " 1  Saiu no YouTube do presidente a 8 horas atrás,...                5   \n",
              " 2  É isso, nossa parte já foi quase toda feita. N...                5   \n",
              " 3           GENTE ACHEI ELES EM UMA SEITA MAÇONÁRICA                5   \n",
              " 5  Kķkkkkk to rindo até agora....Quem disse q ia ...                5   \n",
              " \n",
              "                   date_system  score_sentiment  score_misinformation  \\\n",
              " 0  2022-10-05 06:25:28.863641           0.0000                   NaN   \n",
              " 1  2022-10-05 06:25:28.926311           0.0644                   NaN   \n",
              " 2  2022-10-05 06:26:29.361949          -0.3551              0.157242   \n",
              " 3  2022-10-05 06:27:29.935624           0.0000                   NaN   \n",
              " 5  2022-10-05 06:29:29.046694           0.7003              0.197813   \n",
              " \n",
              "    id_message message_type messenger media_name  \\\n",
              " 0       16385        Texto  telegram        NaN   \n",
              " 1       16386        Texto  telegram        NaN   \n",
              " 2       16366        Texto  telegram        NaN   \n",
              " 3       19281       Imagem  telegram        NaN   \n",
              " 5        2735        Texto  telegram        NaN   \n",
              " \n",
              "                           media_md5  n_palavras  \n",
              " 0                               NaN          20  \n",
              " 1                               NaN          23  \n",
              " 2                               NaN          59  \n",
              " 3  94dca4cda503100ebfda7ce2bcc060eb           7  \n",
              " 5                               NaN          25  ,\n",
              " 339286)"
            ]
          },
          "metadata": {},
          "execution_count": 10
        }
      ]
    },
    {
      "cell_type": "markdown",
      "source": [
        "Agrupe as linhas com postagens iguais ou extremamente semelhantes. Aqui você\n",
        "pode utilizar uma métrica de semelhança de textos. Crie uma variável para\n",
        "representar a quantidade de vezes que a mensagem foi compartilhada. Observe que\n",
        "ao agrupar linhas que possuem a “mesma” postagem (texto), você deve escolher\n",
        "como valor para as variáveis data e hora da postagem, os valores da cópia mais\n",
        "antiga"
      ],
      "metadata": {
        "id": "Tj3DvFb44R5V"
      }
    },
    {
      "cell_type": "code",
      "source": [
        "#eu não consegui processar todos os dados, pois todas as minhas tentativas a memoria ram do notebook ou do meu computador foi completamente utilizada e o codigo quebrou antes do fim do processamento\n",
        "\n",
        "df = df.sample(n=30000, random_state=42).reset_index(drop=True)\n",
        "df['text_content_anonymous'] = df['text_content_anonymous'].astype(str)\n",
        "\n",
        "\n",
        "# Vetorização\n",
        "vectorizer = TfidfVectorizer(stop_words=None)\n",
        "tfidf = vectorizer.fit_transform(df[\"text_content_anonymous\"])\n",
        "\n",
        "# Agrupamento por similaridade\n",
        "nn = NearestNeighbors(radius=0.05, metric='cosine', n_jobs=-1)\n",
        "nn.fit(tfidf)\n",
        "vizinhos = nn.radius_neighbors(tfidf, return_distance=False)\n",
        "\n",
        "agrupados = set()\n",
        "mensagens = []\n",
        "\n",
        "for i, grupo_indices in enumerate(vizinhos):\n",
        "    if i in agrupados:\n",
        "        continue\n",
        "    grupo = [idx for idx in grupo_indices if idx not in agrupados]\n",
        "    if not grupo:\n",
        "        continue\n",
        "    for idx in grupo:\n",
        "        agrupados.add(idx)\n",
        "    base = df.iloc[grupo].sort_values(\"date_message\").iloc[0].copy()\n",
        "    base[\"compartilhamentos\"] = len(grupo)\n",
        "    mensagens.append(base)\n",
        "\n",
        "df_final = pd.DataFrame(mensagens)"
      ],
      "metadata": {
        "id": "pKDpWCQW4SAp"
      },
      "execution_count": 6,
      "outputs": []
    },
    {
      "cell_type": "markdown",
      "source": [
        "d) Você pode criar novos atributos numéricos, tais como: quantidade de palavras,\n",
        "quantidade de caracteres etc.\n"
      ],
      "metadata": {
        "id": "jbw9adYQwvw2"
      }
    },
    {
      "cell_type": "code",
      "source": [
        "df_final[\"qtd_palavras\"] = df_final[\"text_content_anonymous\"].apply(lambda x: len(str(x).split()))\n",
        "df_final[\"qtd_caracteres\"] = df_final[\"text_content_anonymous\"].apply(lambda x: len(str(x)))\n"
      ],
      "metadata": {
        "id": "vfJT55Jmvf-H"
      },
      "execution_count": 11,
      "outputs": []
    },
    {
      "cell_type": "markdown",
      "source": [
        "e) O modelo de regressão: regressão linear multivariada, regressão polinomial\n",
        "multivariada;\n"
      ],
      "metadata": {
        "id": "6qnUI6pRxY3r"
      }
    },
    {
      "cell_type": "code",
      "source": [
        "model_linear = LinearRegression()\n",
        "model_poly = make_pipeline(PolynomialFeatures(degree=2), LinearRegression())\n",
        "\n",
        "\n",
        "X = df_final[[\"qtd_palavras\", \"qtd_caracteres\"]]\n",
        "y = df_final[\"compartilhamentos\"]\n",
        "\n",
        "kf = KFold(n_splits=5, shuffle=True, random_state=42)\n",
        "mse_linear = -cross_val_score(model_linear, X, y, scoring=\"neg_mean_squared_error\", cv=kf).mean()\n",
        "mse_poly = -cross_val_score(model_poly, X, y, scoring=\"neg_mean_squared_error\", cv=kf).mean()\n",
        "\n",
        "print(\"MSE Regressão Linear:\", mse_linear)\n",
        "print(\"MSE Regressão Polinomial:\", mse_poly)\n"
      ],
      "metadata": {
        "colab": {
          "base_uri": "https://localhost:8080/"
        },
        "id": "5MxfzbObvoTs",
        "outputId": "3877feec-7c48-46d2-b42a-c72c9ba67623"
      },
      "execution_count": 12,
      "outputs": [
        {
          "output_type": "stream",
          "name": "stdout",
          "text": [
            "MSE Regressão Linear: 1969.034176502321\n",
            "MSE Regressão Polinomial: 1969.094782049313\n"
          ]
        }
      ]
    },
    {
      "cell_type": "markdown",
      "source": [
        "g) Regularização: Com regularização (Ridge, Lasso ou ElasticNet) e sem\n",
        "regularização;\n"
      ],
      "metadata": {
        "id": "1Mk3SST5yyFv"
      }
    },
    {
      "cell_type": "code",
      "source": [
        "X = df_final[[\"qtd_palavras\", \"qtd_caracteres\"]]\n",
        "y = df_final[\"compartilhamentos\"]\n",
        "\n",
        "kf = KFold(n_splits=5, shuffle=True, random_state=42)\n",
        "mse_ridge = -cross_val_score(Ridge(), X, y, scoring=\"neg_mean_squared_error\", cv=kf).mean()\n",
        "mse_lasso = -cross_val_score(Lasso(), X, y, scoring=\"neg_mean_squared_error\", cv=kf).mean()\n",
        "mse_elastic = -cross_val_score(ElasticNet(), X, y, scoring=\"neg_mean_squared_error\", cv=kf).mean()\n"
      ],
      "metadata": {
        "id": "p1AhhQEByyRv"
      },
      "execution_count": 13,
      "outputs": []
    },
    {
      "cell_type": "markdown",
      "source": [
        "h) Normalização dos dados: sem normalização, Z-Score, Min-Max (OPCIONAL);\n"
      ],
      "metadata": {
        "id": "tGWMBQSoy3p8"
      }
    },
    {
      "cell_type": "code",
      "source": [
        "scaler_z = StandardScaler()\n",
        "X_z = scaler_z.fit_transform(X)\n",
        "mse_z = -cross_val_score(Ridge(), X_z, y, scoring=\"neg_mean_squared_error\", cv=kf).mean()\n",
        "\n",
        "scaler_mm = MinMaxScaler()\n",
        "X_mm = scaler_mm.fit_transform(X)\n",
        "mse_mm = -cross_val_score(Ridge(), X_mm, y, scoring=\"neg_mean_squared_error\", cv=kf).mean()"
      ],
      "metadata": {
        "id": "ikUTLnUgy316"
      },
      "execution_count": 14,
      "outputs": []
    },
    {
      "cell_type": "markdown",
      "source": [
        "l) Treinamento, Validação e Teste: Outer K-Fold Cross-Validation;"
      ],
      "metadata": {
        "id": "VS3CSYP0xb7c"
      }
    },
    {
      "cell_type": "code",
      "source": [
        "pipeline = Pipeline([\n",
        "    (\"tfidf\", TfidfVectorizer(ngram_range=(1, 2), max_features=1000)),  # bigramas\n",
        "    (\"scaler\", StandardScaler(with_mean=False)),\n",
        "    (\"regressor\", Ridge())\n",
        "])\n",
        "\n",
        "textos = df_final[\"text_content_anonymous\"]\n",
        "mse_textual = -cross_val_score(pipeline, textos, y, scoring=\"neg_mean_squared_error\", cv=kf).mean()\n",
        "\n",
        "print(\"MSE Textual:\", mse_textual)"
      ],
      "metadata": {
        "colab": {
          "base_uri": "https://localhost:8080/"
        },
        "id": "E5mBoMCLzc4G",
        "outputId": "65c88a3e-166f-4370-e5f0-2b35e56304d7"
      },
      "execution_count": 16,
      "outputs": [
        {
          "output_type": "stream",
          "name": "stdout",
          "text": [
            "MSE Textual: 1974.348620512928\n"
          ]
        }
      ]
    }
  ]
}